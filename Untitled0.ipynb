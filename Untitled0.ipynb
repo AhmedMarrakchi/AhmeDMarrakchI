{
  "nbformat": 4,
  "nbformat_minor": 0,
  "metadata": {
    "colab": {
      "name": "Untitled0.ipynb",
      "provenance": [],
      "collapsed_sections": [],
      "authorship_tag": "ABX9TyOduoJn1iPViyefE+fS31ut",
      "include_colab_link": true
    },
    "kernelspec": {
      "name": "python3",
      "display_name": "Python 3"
    },
    "language_info": {
      "name": "python"
    }
  },
  "cells": [
    {
      "cell_type": "markdown",
      "metadata": {
        "id": "view-in-github",
        "colab_type": "text"
      },
      "source": [
        "<a href=\"https://colab.research.google.com/github/AhmedMarrakchi/AhmeDMarrakchI/blob/main/Untitled0.ipynb\" target=\"_parent\"><img src=\"https://colab.research.google.com/assets/colab-badge.svg\" alt=\"Open In Colab\"/></a>"
      ]
    },
    {
      "cell_type": "code",
      "metadata": {
        "id": "6gYEdCCcUDqQ"
      },
      "source": [
        "N,P=input(\"Entrer votre Nom\"),input(\"Entrer votre prénom\")\n",
        "N=N[::-1];P=P[::-1]\n",
        "print(\"Nom:\",N,\"Prénom:\",P)"
      ],
      "execution_count": null,
      "outputs": []
    },
    {
      "cell_type": "code",
      "metadata": {
        "id": "xmV2_8qwOWu7"
      },
      "source": [
        "x=int(input(\"Enter an integer\"))\n",
        "X=x*(111+11+1)\n",
        "print(X)"
      ],
      "execution_count": null,
      "outputs": []
    },
    {
      "cell_type": "code",
      "metadata": {
        "id": "oD0IeE55O-3j"
      },
      "source": [
        "x=int(input(\"Enter a number\"))\n",
        "if x%2==0:\n",
        "  print(x,\"is even\")\n",
        "else:\n",
        "  print(x,\"x is odd\")"
      ],
      "execution_count": null,
      "outputs": []
    },
    {
      "cell_type": "code",
      "metadata": {
        "id": "Vkhhx9vzPp0H"
      },
      "source": [
        "for i in range(2000,3201):\n",
        "  if i%7==0 and i%5!=0 :\n",
        "    print(i,end=\" \")"
      ],
      "execution_count": null,
      "outputs": []
    },
    {
      "cell_type": "code",
      "metadata": {
        "id": "NZG7cDUKQwXt"
      },
      "source": [
        "from math import factorial\n",
        "n=int(input(\"Enter a positive integer\"))\n",
        "while n<0:\n",
        "  n=int(input(\"Enter a positive integer\"))\n",
        "N=factorial(n)\n",
        "print(\"{0}!={1}\".format(n,N))"
      ],
      "execution_count": null,
      "outputs": []
    },
    {
      "cell_type": "code",
      "metadata": {
        "id": "GUbeVfczSt9r"
      },
      "source": [
        "W=input(\"Enter an expression \")\n",
        "W=W[0:len(W):2]\n",
        "print(W)"
      ],
      "execution_count": null,
      "outputs": []
    },
    {
      "cell_type": "code",
      "metadata": {
        "id": "wo53ud7YTgdA"
      },
      "source": [
        "P=float(input(\"Enter the price\"))\n",
        "if P>=500:\n",
        "  print(\"The discounted price is\",P*(100-50)/100)\n",
        "elif P<500 and P>=200:\n",
        "  print(\"The discounted price is\",P*(100-30)/100)\n",
        "else:\n",
        "  print(\"The discounted price is\",P*(100-10)/100)\n"
      ],
      "execution_count": null,
      "outputs": []
    }
  ]
}